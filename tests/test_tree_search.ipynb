{
 "cells": [
  {
   "cell_type": "code",
   "execution_count": 1,
   "metadata": {},
   "outputs": [],
   "source": [
    "import sympy\n",
    "import random\n",
    "import math\n",
    "import numpy as np\n",
    "import sys\n",
    "\n",
    "sys.path.append(\"..\")\n",
    "import tree_search"
   ]
  },
  {
   "cell_type": "code",
   "execution_count": 2,
   "metadata": {},
   "outputs": [],
   "source": [
    "def test_syntax_tree():\n",
    "    \n",
    "    for _ in range(10):\n",
    "        stree = tree_search.SyntaxTree.create_random(1, n_coeffs=5, n_coeffs_inner=2, max_depth=5, optfact=tree_search.SympyOperatorFactory())\n",
    "        tot_coeffs = stree.get_ncoeffs()\n",
    "\n",
    "        for _ in range(10):\n",
    "            c = [random.uniform(-2, 2) for _ in range(tot_coeffs)]\n",
    "            x = random.uniform(-2, 2)\n",
    "            stree.set_coeffs(c)\n",
    "\n",
    "            sympy_x = sympy.Symbol('x')\n",
    "            \n",
    "            sympy_expr = stree.evaluate(sympy_x)\n",
    "            actual = sympy.sympify(stree.evaluate(x)).evalf(3)\n",
    "            target = sympy_expr.evalf(3, subs={sympy_x: x})\n",
    "            if actual != target: print(f\"{actual} != {target} [image]\")\n",
    "\n",
    "            sympy_expr = sympy.diff(sympy_expr, sympy_x)\n",
    "            actual = sympy.sympify(stree.evaluate_deriv(x)).evalf(3)\n",
    "            target = sympy_expr.evalf(3, subs={sympy_x: x})\n",
    "            if actual != target: print(f\"{actual} != {target} [deriv]\")\n",
    "\n",
    "test_syntax_tree()"
   ]
  },
  {
   "cell_type": "code",
   "execution_count": 7,
   "metadata": {},
   "outputs": [
    {
     "name": "stdout",
     "output_type": "stream",
     "text": [
      "f(1)=0.0, act(0.0)=0.5\n",
      "f(1.01)=0.009950330853168092, act(0.009950330853168092)=0.9999522904306017\n",
      "f(1.001)=0.0009995003330834232, act(0.0009995003330834232)=0.7309603268102028\n",
      "f(0.99)=-0.01005033585350145, act(-0.01005033585350145)=4.316938373451205e-05\n",
      "f(0.5)=-0.6931471805599453, act(-0.6931471805599453)=9.33263618503283e-302\n",
      "f(50)=3.912023005428146, act(3.912023005428146)=1.0\n"
     ]
    }
   ],
   "source": [
    "def test_ineq_activation():\n",
    "    f = lambda x: math.log(x)\n",
    "    for x in [1, 1.01, 1.001, 0.99, 0.5, 50]:\n",
    "        y = f(x)\n",
    "        act = tree_search.get_ineq_activation(y, 0, sigma=1e3)\n",
    "        print(f\"f({x})={y}, act({y})={act}\")\n",
    "\n",
    "test_ineq_activation()"
   ]
  },
  {
   "cell_type": "code",
   "execution_count": 10,
   "metadata": {},
   "outputs": [
    {
     "name": "stdout",
     "output_type": "stream",
     "text": [
      "1;2\n",
      "3;4\n"
     ]
    }
   ],
   "source": [
    "ls = [(1,2), (3,4)]\n",
    "for (a,b) in ls:\n",
    "    print(f\"{a};{b}\")"
   ]
  },
  {
   "cell_type": "code",
   "execution_count": 2,
   "metadata": {},
   "outputs": [
    {
     "name": "stdout",
     "output_type": "stream",
     "text": [
      "[[1 6 9]]\n",
      "[[  2   8 -10]]\n",
      "[3 2 1]\n",
      "[6 2]\n"
     ]
    }
   ],
   "source": [
    "poly = tree_search.PolySyntaxTree(3)\n",
    "poly.set_coeffs(np.array([3, 2, 1]))\n",
    "\n",
    "x = np.array([0, 1, -2])\n",
    "print( poly.evaluate(np.array([x])) )\n",
    "print( poly.evaluate_deriv(np.array([x])) )\n",
    "print( poly.coeffs )\n",
    "print( poly.coeffs_deriv )"
   ]
  }
 ],
 "metadata": {
  "kernelspec": {
   "display_name": "Python 3",
   "language": "python",
   "name": "python3"
  },
  "language_info": {
   "codemirror_mode": {
    "name": "ipython",
    "version": 3
   },
   "file_extension": ".py",
   "mimetype": "text/x-python",
   "name": "python",
   "nbconvert_exporter": "python",
   "pygments_lexer": "ipython3",
   "version": "3.11.3"
  }
 },
 "nbformat": 4,
 "nbformat_minor": 2
}
