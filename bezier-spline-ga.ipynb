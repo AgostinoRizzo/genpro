{
 "cells": [
  {
   "cell_type": "code",
   "execution_count": 2,
   "metadata": {},
   "outputs": [],
   "source": [
    "import pygad\n",
    "import numpy as np\n",
    "import sys"
   ]
  },
  {
   "cell_type": "code",
   "execution_count": 28,
   "metadata": {},
   "outputs": [
    {
     "data": {
      "text/plain": [
       "-1.2696126334699929"
      ]
     },
     "execution_count": 28,
     "metadata": {},
     "output_type": "execute_result"
    }
   ],
   "source": [
    "k1_x = 0\n",
    "k4_x = 4\n",
    "\n",
    "def Bx(t, k2_x, k3_x):\n",
    "    return ((1-t)**3)*k1_x + 3*t*((1-t)**2)*k2_x + 3*(t**2)*(1-t)*k3_x + (t**3)*k4_x\n",
    "\n",
    "def Bx_inv(x, k2_x, k3_x):\n",
    "    for t in range(10000):\n",
    "        if abs(Bx(t/10000, k2_x, k3_x) - x) <= 0.01 : return t/10000\n",
    "    raise RuntimeError(\"No inverse found.\")\n",
    "\n",
    "def By(t, k1_y, k2_y, k3_y, k4_y):\n",
    "    return ((1-t)**3)*k1_y + 3*t*((1-t)**2)*k2_y + 3*(t**2)*(1-t)*k3_y + (t**3)*k4_y\n",
    "\n",
    "def fitfunc(ga_instance, solution, solution_idx):\n",
    "    k1_y = solution[0]\n",
    "    k2_x = solution[1]\n",
    "    k2_y = solution[2]\n",
    "    k3_x = solution[3]\n",
    "    k3_y = solution[4]\n",
    "    k4_y = solution[5]\n",
    "\n",
    "    return  - ((By(Bx_inv(1,k2_x, k3_x), k1_y, k2_y, k3_y, k4_y) - 1)**2 + \\\n",
    "            (By(Bx_inv(2,k2_x, k3_x), k1_y, k2_y, k3_y, k4_y) - 2)**2 + \\\n",
    "            (By(Bx_inv(3,k2_x, k3_x), k1_y, k2_y, k3_y, k4_y) - 1)**2 + \\\n",
    "            (By(Bx_inv(3.5,k2_x, k3_x), k1_y, k2_y, k3_y, k4_y) - 1.5)**2)\n",
    "\n",
    "function_inputs = 6\n",
    "\n",
    "#solution = [-4, 1, 0, 3, -4, 0]\n",
    "solution = [-4, 1, 0, 0, 4, 0]\n",
    "fitfunc(None, solution, None)"
   ]
  },
  {
   "cell_type": "code",
   "execution_count": 29,
   "metadata": {},
   "outputs": [],
   "source": [
    "fitness_function = fitfunc\n",
    "\n",
    "num_generations = 500\n",
    "num_parents_mating = 4\n",
    "\n",
    "sol_per_pop = 8\n",
    "num_genes = function_inputs\n",
    "\n",
    "init_range_low = 0\n",
    "init_range_high = 4\n",
    "\n",
    "parent_selection_type = \"sss\"\n",
    "keep_parents = 1\n",
    "\n",
    "crossover_type = \"single_point\"\n",
    "\n",
    "mutation_type = \"random\"\n",
    "mutation_percent_genes = 1"
   ]
  },
  {
   "cell_type": "code",
   "execution_count": 30,
   "metadata": {},
   "outputs": [
    {
     "name": "stderr",
     "output_type": "stream",
     "text": [
      "c:\\Users\\Agostino\\AppData\\Local\\Programs\\Python\\Python311\\Lib\\site-packages\\pygad\\pygad.py:748: UserWarning: The percentage of genes to mutate (mutation_percent_genes=1) resutled in selecting (0) genes. The number of genes to mutate is set to 1 (mutation_num_genes=1).\n",
      "If you do not want to mutate any gene, please set mutation_type=None.\n",
      "  warnings.warn(f\"The percentage of genes to mutate (mutation_percent_genes={mutation_percent_genes}) resutled in selecting ({mutation_num_genes}) genes. The number of genes to mutate is set to 1 (mutation_num_genes=1).\\nIf you do not want to mutate any gene, please set mutation_type=None.\")\n"
     ]
    }
   ],
   "source": [
    "ga_instance = pygad.GA(num_generations=num_generations,\n",
    "                       num_parents_mating=num_parents_mating,\n",
    "                       fitness_func=fitness_function,\n",
    "                       sol_per_pop=sol_per_pop,\n",
    "                       num_genes=num_genes,\n",
    "                       init_range_low=init_range_low,\n",
    "                       init_range_high=init_range_high,\n",
    "                       parent_selection_type=parent_selection_type,\n",
    "                       keep_parents=keep_parents,\n",
    "                       crossover_type=crossover_type,\n",
    "                       mutation_type=mutation_type,\n",
    "                       mutation_percent_genes=mutation_percent_genes)"
   ]
  },
  {
   "cell_type": "code",
   "execution_count": 31,
   "metadata": {},
   "outputs": [
    {
     "name": "stdout",
     "output_type": "stream",
     "text": [
      "Parameters of the best solution : [-0.26327858  4.2533792   5.39150159  0.23957922 -1.85497807  1.94236652]\n",
      "Fitness value of the best solution = 3037000499.97605\n",
      "Predicted output based on the best solution : 58.251419345094114\n"
     ]
    }
   ],
   "source": [
    "ga_instance.run()\n",
    "\n",
    "from math import sqrt\n",
    "\n",
    "solution, solution_fitness, solution_idx = ga_instance.best_solution()\n",
    "print(\"Parameters of the best solution : {solution}\".format(solution=solution))\n",
    "print(\"Fitness value of the best solution = {solution_fitness}\".format(solution_fitness=sqrt(sys.maxsize-solution_fitness)))\n",
    "\n",
    "prediction = np.sum(np.array(function_inputs)*solution)\n",
    "print(\"Predicted output based on the best solution : {prediction}\".format(prediction=prediction))"
   ]
  },
  {
   "cell_type": "code",
   "execution_count": 32,
   "metadata": {},
   "outputs": [
    {
     "data": {
      "image/png": "[encoded data removed]",
      "text/plain": [
       "<Figure size 800x800 with 1 Axes>"
      ]
     },
     "metadata": {},
     "output_type": "display_data"
    }
   ],
   "source": [
    "import matplotlib.pyplot as plt\n",
    "from scipy.special import comb\n",
    "\n",
    "def B(i, N, t):\n",
    "    val = comb(N,i) * t**i * (1.-t)**(N-i)\n",
    "    return val\n",
    "\n",
    "def P(t, X):\n",
    "    '''\n",
    "     xx = P(t, X)\n",
    "     \n",
    "     Evaluates a Bezier curve for the points in X.\n",
    "     \n",
    "     Inputs:\n",
    "      X is a list (or array) or 2D coords\n",
    "      t is a number (or list of numbers) in [0,1] where you want to\n",
    "        evaluate the Bezier curve\n",
    "      \n",
    "     Output:\n",
    "      xx is the set of 2D points along the Bezier curve\n",
    "    '''\n",
    "    X = np.array(X)\n",
    "    N,d = np.shape(X)   # Number of points, Dimension of points\n",
    "    N = N - 1\n",
    "    xx = np.zeros((len(t), d))\n",
    "    \n",
    "    for i in range(N+1):\n",
    "        xx += np.outer(B(i, N, t), X[i])\n",
    "    \n",
    "    return xx\n",
    "\n",
    "plt.figure(2, figsize=[8,8])\n",
    "plt.clf()\n",
    "\n",
    "k1_y = solution[0]\n",
    "k2_x = solution[1]\n",
    "k2_y = solution[2]\n",
    "k3_x = solution[3]\n",
    "k3_y = solution[4]\n",
    "k4_y = solution[5]\n",
    "\n",
    "c = [(k1_x, k1_y),\n",
    "\t (k2_x, k2_y),\n",
    "     (k3_x, k3_y),\n",
    "     (k4_x, k4_y)]\n",
    "    \n",
    "X = np.array(c)\n",
    "\n",
    "tt = np.linspace(0, 1, 200)\n",
    "xx = P(tt, X)\n",
    "\n",
    "plt.plot(xx[:,0], xx[:,1])\n",
    "plt.plot(X[:,0], X[:,1], 'bo');\n",
    "\n",
    "plt.plot(1, 1, 'ro');\n",
    "plt.plot(2, 2, 'ro');\n",
    "plt.plot(3, 1, 'ro');\n",
    "plt.plot(3.5, 1.5, 'ro');"
   ]
  }
 ],
 "metadata": {
  "kernelspec": {
   "display_name": "Python 3",
   "language": "python",
   "name": "python3"
  },
  "language_info": {
   "codemirror_mode": {
    "name": "ipython",
    "version": 3
   },
   "file_extension": ".py",
   "mimetype": "text/x-python",
   "name": "python",
   "nbconvert_exporter": "python",
   "pygments_lexer": "ipython3",
   "version": "3.11.3"
  }
 },
 "nbformat": 4,
 "nbformat_minor": 2
}
