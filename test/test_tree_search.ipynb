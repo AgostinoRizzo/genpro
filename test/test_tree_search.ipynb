{
 "cells": [
  {
   "cell_type": "code",
   "execution_count": 1,
   "metadata": {},
   "outputs": [],
   "source": [
    "import sympy\n",
    "import random\n",
    "import sys\n",
    "\n",
    "sys.path.append(\"..\")\n",
    "import tree_search"
   ]
  },
  {
   "cell_type": "code",
   "execution_count": 6,
   "metadata": {},
   "outputs": [
    {
     "name": "stdout",
     "output_type": "stream",
     "text": [
      "0.813 != 0.813 [image]\n",
      "-0.767 != -0.767 [image]\n",
      "86.7 != 86.7 [deriv]\n"
     ]
    }
   ],
   "source": [
    "def test_syntax_tree():\n",
    "    \n",
    "    for _ in range(10):\n",
    "        stree = tree_search.SyntaxTree.create_random(1, n_coeffs=5, n_coeffs_inner=2, max_depth=5, optfact=tree_search.SympyOperatorFactory())\n",
    "        tot_coeffs = stree.get_ncoeffs()\n",
    "\n",
    "        for _ in range(10):\n",
    "            c = [random.uniform(-2, 2) for _ in range(tot_coeffs)]\n",
    "            x = random.uniform(-2, 2)\n",
    "            stree.set_coeffs(c)\n",
    "\n",
    "            sympy_x = sympy.Symbol('x')\n",
    "            \n",
    "            sympy_expr = stree.evaluate(sympy_x)\n",
    "            actual = sympy.sympify(stree.evaluate(x)).evalf(3)\n",
    "            target = sympy_expr.evalf(3, subs={sympy_x: x})\n",
    "            if actual != target: print(f\"{actual} != {target} [image]\")\n",
    "\n",
    "            sympy_expr = sympy.diff(sympy_expr, sympy_x)\n",
    "            actual = sympy.sympify(stree.evaluate_deriv(x)).evalf(3)\n",
    "            target = sympy_expr.evalf(3, subs={sympy_x: x})\n",
    "            if actual != target: print(f\"{actual} != {target} [deriv]\")\n",
    "\n",
    "test_syntax_tree()"
   ]
  }
 ],
 "metadata": {
  "kernelspec": {
   "display_name": "Python 3",
   "language": "python",
   "name": "python3"
  },
  "language_info": {
   "codemirror_mode": {
    "name": "ipython",
    "version": 3
   },
   "file_extension": ".py",
   "mimetype": "text/x-python",
   "name": "python",
   "nbconvert_exporter": "python",
   "pygments_lexer": "ipython3",
   "version": "3.11.3"
  }
 },
 "nbformat": 4,
 "nbformat_minor": 2
}
