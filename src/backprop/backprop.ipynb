{
 "cells": [
  {
   "cell_type": "code",
   "execution_count": 1,
   "metadata": {},
   "outputs": [],
   "source": [
    "#from sympy.parsing.sympy_parser import parse_expr\n",
    "#import sympy\n",
    "from sympy.logic.inference import satisfiable\n",
    "import backprop\n",
    "import numbs"
   ]
  },
  {
   "cell_type": "code",
   "execution_count": 2,
   "metadata": {},
   "outputs": [
    {
     "name": "stdout",
     "output_type": "stream",
     "text": [
      "(A(x) / B(x))\n",
      "(((A'(x) * B(x)) - (A(x) * B'(x))) / (B(x) ^ 2))\n",
      "((((((A''(x) * B(x)) + (A'(x) * B'(x))) - ((A'(x) * B'(x)) + (A(x) * B''(x)))) * (B(x) ^ 2)) - (((A'(x) * B(x)) - (A(x) * B'(x))) * ((2 * (B(x) ^ 1)) * B'(x)))) / (B(x) ^ 4))\n"
     ]
    }
   ],
   "source": [
    "#A, B = sympy.symbols('A,B')\n",
    "#expr = sympy.Rational(A, B)\n",
    "#expr.func\n",
    "#parse_expr(\"A/B\", evaluate=False).func\n",
    "\n",
    "stree = backprop.BinaryOperatorSyntaxTree('/', backprop.UnknownSyntaxTree('A'), backprop.UnknownSyntaxTree('B'))\n",
    "stree_pr  = stree.diff().simplify()\n",
    "stree_pr2 = stree_pr.diff().simplify()\n",
    "print(str(stree))\n",
    "print(str(stree_pr))\n",
    "print(str(stree_pr2))"
   ]
  },
  {
   "cell_type": "code",
   "execution_count": 3,
   "metadata": {},
   "outputs": [
    {
     "data": {
      "text/latex": [
       "$\\displaystyle \\left(\\left(X_{0} \\wedge X_{2}\\right) \\vee \\left(X_{1} \\wedge X_{3}\\right)\\right) \\wedge \\left(\\left(X_{4} \\wedge X_{7}\\right) \\vee \\left(X_{5} \\wedge X_{6}\\right)\\right)$"
      ],
      "text/plain": [
       "((X0 & X2) | (X1 & X3)) & ((X4 & X7) | (X5 & X6))"
      ]
     },
     "execution_count": 3,
     "metadata": {},
     "output_type": "execute_result"
    }
   ],
   "source": [
    "symbmapper = backprop.SymbolMapper()\n",
    "\n",
    "peak_x   = 0.20827333333333353\n",
    "root_pr  = 0.22\n",
    "#root_pr  = 0.00781025\n",
    "#root_pr2 = 0.0135277\n",
    "\n",
    "roots = [-numbs.INFTY, -root_pr, -peak_x, 0, peak_x, root_pr, numbs.INFTY]\n",
    "\n",
    "\"\"\"pk_boolexpr  = stree.backprop_sign(symbmapper, -numbs.INFTY, -root_pr, '+')\n",
    "pk_boolexpr &= stree.backprop_sign(symbmapper, -root_pr, -peak_x, '+')\n",
    "pk_boolexpr &= stree.backprop_sign(symbmapper, -peak_x, 0, '+')\n",
    "pk_boolexpr &= stree.backprop_sign(symbmapper, 0, peak_x, '-')\n",
    "pk_boolexpr &= stree.backprop_sign(symbmapper, peak_x, root_pr, '-')\n",
    "pk_boolexpr &= stree.backprop_sign(symbmapper, root_pr, numbs.INFTY, '-')\n",
    "\n",
    "pk_boolexpr &= stree_pr.backprop_sign(symbmapper, -numbs.INFTY, -root_pr, '+')\n",
    "pk_boolexpr &= stree_pr.backprop_sign(symbmapper, -root_pr, -peak_x, '+')\n",
    "pk_boolexpr &= stree_pr.backprop_sign(symbmapper, -peak_x, 0, '-')\n",
    "pk_boolexpr &= stree_pr.backprop_sign(symbmapper, 0, peak_x, '-')\n",
    "pk_boolexpr &= stree_pr.backprop_sign(symbmapper, peak_x, root_pr, '+')\n",
    "pk_boolexpr &= stree_pr.backprop_sign(symbmapper, root_pr, numbs.INFTY, '+')\n",
    "\n",
    "pk_boolexpr &= stree_pr2.backprop_sign(symbmapper, -numbs.INFTY, -root_pr, '+')\n",
    "pk_boolexpr &= stree_pr2.backprop_sign(symbmapper, -root_pr, -peak_x, '-')\n",
    "pk_boolexpr &= stree_pr2.backprop_sign(symbmapper, -peak_x, 0, '-')\n",
    "pk_boolexpr &= stree_pr2.backprop_sign(symbmapper, 0, peak_x, '+')\n",
    "pk_boolexpr &= stree_pr2.backprop_sign(symbmapper, peak_x, root_pr, '+')\n",
    "pk_boolexpr &= stree_pr2.backprop_sign(symbmapper, root_pr, numbs.INFTY, '-')\"\"\"\n",
    "\n",
    "pk_boolexpr  = stree.backprop_sign(symbmapper, -numbs.INFTY, 0, '+')\n",
    "pk_boolexpr &= stree.backprop_sign(symbmapper, 0, numbs.INFTY, '-')\n",
    "\n",
    "\"\"\"\n",
    "pk_boolexpr &= stree_pr.backprop_sign(symbmapper, -numbs.INFTY, -peak_x, '+')\n",
    "pk_boolexpr &= stree_pr.backprop_sign(symbmapper, -peak_x, 0, '-')\n",
    "pk_boolexpr &= stree_pr.backprop_sign(symbmapper, 0, peak_x, '-')\n",
    "pk_boolexpr &= stree_pr.backprop_sign(symbmapper, peak_x, numbs.INFTY, '+')\n",
    "\n",
    "pk_boolexpr &= stree_pr2.backprop_sign(symbmapper, -numbs.INFTY, -root_pr, '+')\n",
    "pk_boolexpr &= stree_pr2.backprop_sign(symbmapper, -root_pr, 0, '-')\n",
    "pk_boolexpr &= stree_pr2.backprop_sign(symbmapper, 0, root_pr, '+')\n",
    "pk_boolexpr &= stree_pr2.backprop_sign(symbmapper, root_pr, numbs.INFTY, '-')\n",
    "\"\"\"\n",
    "pk_boolexpr"
   ]
  },
  {
   "cell_type": "code",
   "execution_count": 4,
   "metadata": {},
   "outputs": [
    {
     "name": "stdout",
     "output_type": "stream",
     "text": [
      "B(x)>0 [0,INFTY] - B(x)<0 [0,INFTY]\n",
      "A(x)>0 [0,INFTY] - A(x)<0 [0,INFTY]\n",
      "B(x)<0 [-INFTY,0] - B(x)>0 [-INFTY,0]\n",
      "B(x)<0 [0,INFTY] - B(x)>0 [0,INFTY]\n",
      "A(x)<0 [-INFTY,0] - A(x)>0 [-INFTY,0]\n",
      "B(x)>0 [-INFTY,0] - B(x)<0 [-INFTY,0]\n",
      "A(x)>0 [-INFTY,0] - A(x)<0 [-INFTY,0]\n",
      "A(x)<0 [0,INFTY] - A(x)>0 [0,INFTY]\n"
     ]
    }
   ],
   "source": [
    "for X_symb_a in pk_boolexpr.free_symbols:\n",
    "    for X_symb_b in pk_boolexpr.free_symbols:\n",
    "        if X_symb_a == X_symb_b: continue\n",
    "        if symbmapper.symb_to_prop[X_symb_a].fights( symbmapper.symb_to_prop[X_symb_b] ):\n",
    "            print(f\"{symbmapper.symb_to_prop[X_symb_a]} - {symbmapper.symb_to_prop[X_symb_b]}\")\n",
    "            pk_boolexpr &= ~( X_symb_a & X_symb_b )"
   ]
  },
  {
   "cell_type": "code",
   "execution_count": 5,
   "metadata": {},
   "outputs": [
    {
     "data": {
      "text/latex": [
       "$\\displaystyle \\neg \\left(X_{0} \\wedge X_{1}\\right) \\wedge \\neg \\left(X_{2} \\wedge X_{3}\\right) \\wedge \\neg \\left(X_{4} \\wedge X_{5}\\right) \\wedge \\neg \\left(X_{6} \\wedge X_{7}\\right) \\wedge \\left(\\left(X_{0} \\wedge X_{2}\\right) \\vee \\left(X_{1} \\wedge X_{3}\\right)\\right) \\wedge \\left(\\left(X_{4} \\wedge X_{7}\\right) \\vee \\left(X_{5} \\wedge X_{6}\\right)\\right)$"
      ],
      "text/plain": [
       "~(X0 & X1) & ~(X2 & X3) & ~(X4 & X5) & ~(X6 & X7) & ((X0 & X2) | (X1 & X3)) & ((X4 & X7) | (X5 & X6))"
      ]
     },
     "execution_count": 5,
     "metadata": {},
     "output_type": "execute_result"
    }
   ],
   "source": [
    "unknowns_labels = [\"A\", \"B\"]#, \"A'\", \"B'\", \"A''\", \"B''\"] \n",
    "\n",
    "\"\"\"\n",
    "for i in range(len(roots)-1):\n",
    "    for l in unknowns_labels:\n",
    "        c_gr = backprop.PropositionalConstraint(\n",
    "            backprop.UnknownSyntaxTree(l),\n",
    "            backprop.ConstantSyntaxTree(0),\n",
    "            '>', roots[i], roots[i+1]\n",
    "        )\n",
    "        c_lw = backprop.PropositionalConstraint(\n",
    "            backprop.UnknownSyntaxTree(l),\n",
    "            backprop.ConstantSyntaxTree(0),\n",
    "            '<', roots[i], roots[i+1]\n",
    "        )\n",
    "        pk_boolexpr &= ( symbmapper.map_as_symbol(c_gr) | symbmapper.map_as_symbol(c_lw) )\"\"\"\n",
    "pk_boolexpr"
   ]
  },
  {
   "cell_type": "code",
   "execution_count": 6,
   "metadata": {},
   "outputs": [
    {
     "name": "stdout",
     "output_type": "stream",
     "text": [
      "--- Model 0 ---\n",
      "B(x)>0 [0,INFTY]\n",
      "B(x)<0 [-INFTY,0]\n",
      "\n",
      "A(x)<0 [-INFTY,0]\n",
      "A(x)<0 [0,INFTY]\n",
      "\n",
      "\n",
      "--- Model 1 ---\n",
      "B(x)>0 [0,INFTY]\n",
      "B(x)>0 [-INFTY,0]\n",
      "\n",
      "A(x)<0 [0,INFTY]\n",
      "A(x)>0 [-INFTY,0]\n",
      "\n",
      "\n",
      "--- Model 2 ---\n",
      "B(x)<0 [0,INFTY]\n",
      "B(x)>0 [-INFTY,0]\n",
      "\n",
      "A(x)>0 [-INFTY,0]\n",
      "A(x)>0 [0,INFTY]\n",
      "\n",
      "\n",
      "--- Model 3 ---\n",
      "B(x)<0 [0,INFTY]\n",
      "B(x)<0 [-INFTY,0]\n",
      "\n",
      "A(x)<0 [-INFTY,0]\n",
      "A(x)>0 [0,INFTY]\n",
      "\n",
      "\n",
      "No more models.\n"
     ]
    }
   ],
   "source": [
    "allmodels = satisfiable(pk_boolexpr, algorithm='minisat22', minimal=True, all_models=True)\n",
    "\n",
    "n = 0\n",
    "while n < 10:\n",
    "    \n",
    "    try: models = next(allmodels)\n",
    "    except RuntimeError:\n",
    "        print('No more models.')\n",
    "        break\n",
    "\n",
    "    if models:\n",
    "        constrs = set()\n",
    "        constrs_map = {}\n",
    "        \n",
    "        for symb in models.keys():\n",
    "            if models[symb]:\n",
    "                constr = symbmapper.symb_to_prop[symb]\n",
    "                constrs.add(constr)\n",
    "                constr_f_str = str(constr.f)\n",
    "                if constr_f_str not in constrs_map.keys(): constrs_map[constr_f_str] = []\n",
    "                constrs_map[constr_f_str].append(constr)\n",
    "        \n",
    "        \"\"\"some_dom_constr = True\n",
    "        while some_dom_constr:\n",
    "\n",
    "            dom_constrs = []\n",
    "            for ci in constrs:\n",
    "                for cj in constrs:\n",
    "                    if ci == cj: continue\n",
    "                    if ci.is_dominated_by(cj):\n",
    "                        dom_constrs.append(ci)\n",
    "                        break\n",
    "            \n",
    "            for dc in dom_constrs:\n",
    "                constrs.remove(dc)\n",
    "            \n",
    "            some_dom_constr = len(dom_constrs) > 0\"\"\"\n",
    "        \n",
    "        #for c in constrs:\n",
    "        #    print(c)\n",
    "        print(f\"--- Model {n} ---\")\n",
    "        for k in constrs_map.keys():\n",
    "            for c in constrs_map[k]: print(c)\n",
    "            print()\n",
    "        print()\n",
    "                \n",
    "    else:\n",
    "        print('Unsat')\n",
    "        break\n",
    "\n",
    "    n += 1"
   ]
  }
 ],
 "metadata": {
  "kernelspec": {
   "display_name": "Python 3",
   "language": "python",
   "name": "python3"
  },
  "language_info": {
   "codemirror_mode": {
    "name": "ipython",
    "version": 3
   },
   "file_extension": ".py",
   "mimetype": "text/x-python",
   "name": "python",
   "nbconvert_exporter": "python",
   "pygments_lexer": "ipython3",
   "version": "3.11.3"
  }
 },
 "nbformat": 4,
 "nbformat_minor": 2
}
