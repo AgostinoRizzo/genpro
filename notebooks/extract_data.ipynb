{
 "cells": [
  {
   "cell_type": "code",
   "execution_count": 48,
   "metadata": {},
   "outputs": [
    {
     "name": "stdout",
     "output_type": "stream",
     "text": [
      "1.0000\n",
      "0.9388\n",
      "0.9961\n",
      "1.0000\n",
      "0.7500\n",
      "0.5000\n",
      "1.0000\n",
      "1.0000\n",
      "1.0000\n",
      "1.0000\n",
      "1.0000\n",
      "1.0000\n",
      "1.0000\n",
      "1.0000\n",
      "0.5000\n",
      "1.0000\n",
      "0.6041\n",
      "1.0000\n",
      "0.4975\n",
      "1.0000\n"
     ]
    }
   ],
   "source": [
    "import pandas as pd\n",
    "\n",
    "df = pd.read_csv('../results/thesis/perf_KBPGP_vs_GPL.csv')\n",
    "\n",
    "# remove wave power.\n",
    "df = df[df.Problem != 'Wave power']\n",
    "\n",
    "df = df[df['Data-Config'] == 'nonoise']\n",
    "df = df[df['Algo-Config'] == 'GP']\n",
    "df = df[['Problem', 'Data-Config', 'Algo-Config', 'Test-Fea-Ratio']]\n",
    "df = df[['Problem', 'Test-Fea-Ratio']]\n",
    "df = df.groupby('Problem').median()\n",
    "V = df['Test-Fea-Ratio'].tolist()\n",
    "\n",
    "\n",
    "for v in V:\n",
    "    print(\"{0:.4f}\".format(v))"
   ]
  }
 ],
 "metadata": {
  "kernelspec": {
   "display_name": "Python 3",
   "language": "python",
   "name": "python3"
  },
  "language_info": {
   "codemirror_mode": {
    "name": "ipython",
    "version": 3
   },
   "file_extension": ".py",
   "mimetype": "text/x-python",
   "name": "python",
   "nbconvert_exporter": "python",
   "pygments_lexer": "ipython3",
   "version": "3.11.3"
  }
 },
 "nbformat": 4,
 "nbformat_minor": 2
}
