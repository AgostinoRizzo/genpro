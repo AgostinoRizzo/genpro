{
 "cells": [
  {
   "cell_type": "code",
   "execution_count": null,
   "metadata": {},
   "outputs": [],
   "source": [
    "import numpy as np\n",
    "import matplotlib.pyplot as plt\n",
    "import logging\n",
    "\n",
    "import dataset\n",
    "import dataset_misc1d\n",
    "import dataset_misc2d\n",
    "from backprop import backprop\n",
    "from backprop import gp, srgp, cmgp, crossover, selector, library, project, diversify\n",
    "from gp import evaluator as gp_evaluator\n",
    "from symbols import syntax_tree\n",
    "\n",
    "SAMPLE_SIZE = 200\n",
    "NOISE = 0.0\n",
    "\n",
    "POPSIZE = 1000\n",
    "MAX_STREE_DEPTH = 5\n",
    "GENERATIONS = 20\n",
    "GROUP_SIZE = 5  # tournament selector.\n",
    "MUTATION_RATE = 0.15\n",
    "ELITISM = 1\n",
    "BACKPROP_INTV = -1\n",
    "\n",
    "NBESTS = 4\n",
    "\n",
    "#logging.basicConfig(level=logging.INFO, format='%(asctime)s %(message)s')"
   ]
  },
  {
   "cell_type": "code",
   "execution_count": null,
   "metadata": {},
   "outputs": [],
   "source": [
    "S = dataset_misc1d.MagmanDatasetScaled()\n",
    "#S = dataset_misc2d.Resistance2()\n",
    "#S = dataset_misc1d.ABSDataset()\n",
    "S.sample(size=SAMPLE_SIZE, noise=NOISE, mesh=False)\n",
    "#S.load('../data/magman.csv')\n",
    "S.split(train_size=0.7)\n",
    "S.get_plotter().plot(width=8, height=6, plot_knowldege=False)\n",
    "\n",
    "S_train = dataset.NumpyDataset(S)\n",
    "S_test  = dataset.NumpyDataset(S, test=True)"
   ]
  },
  {
   "cell_type": "code",
   "execution_count": null,
   "metadata": {},
   "outputs": [],
   "source": [
    "#print(S_train.y.size)\n",
    "#project.project(S_train, S.knowledge)\n",
    "#project.project_semantic(S_train.y, S_train, S.knowledge)\n",
    "#S_train.get_plotter().plot(width=8, height=6)"
   ]
  },
  {
   "cell_type": "code",
   "execution_count": null,
   "metadata": {},
   "outputs": [],
   "source": [
    "syntax_tree.SyntaxTreeInfo.set_problem(S_train)\n",
    "\n",
    "lib = library.Library(2000, 3, S_train)\n",
    "#lib.find_best_similarity()\n",
    "\n",
    "trunks = None #gp.generate_trunks(3, S.nvars, S.knowledge)\n",
    "\n",
    "solutionCreator = gp.RandomSolutionCreator(nvars=S.nvars, trunks=trunks)\n",
    "\n",
    "multiMutator = gp.MultiMutator(\n",
    "      gp.SubtreeReplacerMutator(MAX_STREE_DEPTH, solutionCreator),\n",
    "      gp.FunctionSymbolMutator(),\n",
    "      gp.NumericParameterMutator(all=True),\n",
    "      #gp.NumericParameterMutator(all=False)\n",
    "      )\n",
    "\n",
    "#diversifier = None #gp.SemanticCrowdingDiversifier(S_train)\n",
    "diversifier = diversify.SymbolicDiversifier(S_train, lib)\n",
    "\n",
    "#evaluator = gp.R2Evaluator(S_train)\n",
    "#evaluator = gp.FUEvaluator(S_train, S.knowledge)\n",
    "#evaluator = gp.NumericalFUEvaluator(S_train, S.knowledge)\n",
    "evaluator = gp_evaluator.FastFUEvaluator(S_train, S.knowledge)\n",
    "\n",
    "selector = gp.TournamentSelector(GROUP_SIZE)\n",
    "\n",
    "#crossover2 = gp.SubTreeCrossover(MAX_STREE_DEPTH)\n",
    "#crossover2 = crossover.ApproxGeometricCrossover(lib, MAX_STREE_DEPTH, diversifier)\n",
    "#crossover2 = crossover.CrossNPushCrossover(lib, MAX_STREE_DEPTH)\n",
    "crossover2 = crossover.ConstrainedCrossNPushCrossover(lib, MAX_STREE_DEPTH, evaluator.know_evaluator)\n",
    "\n",
    "projector = project.Projector(lib, S.knowledge)\n",
    "\n",
    "symb_regressor = \\\n",
    "         gp.GP(POPSIZE, GENERATIONS, MAX_STREE_DEPTH, S_train, S_test,\n",
    "               creator=solutionCreator,\n",
    "               evaluator=evaluator,\n",
    "               selector=selector,\n",
    "               crossover=crossover2,\n",
    "               mutator=multiMutator,\n",
    "               mutrate=MUTATION_RATE,\n",
    "               diversifier=diversifier,\n",
    "               projector=projector,\n",
    "               elitism=ELITISM,\n",
    "               backprop_intv=BACKPROP_INTV,\n",
    "               knowledge=S.knowledge,\n",
    "               trunks=trunks,\n",
    "               nbests=NBESTS)\n",
    "\n",
    "with np.errstate(all='ignore'):\n",
    "      import profiling\n",
    "      bests, eval_map = symb_regressor.evolve()\n",
    "      profiling.print_stats()\n",
    "\n",
    "best_stree = bests[0]\n",
    "best_eval = eval_map[id(best_stree)]\n",
    "\n",
    "print(\"--- Best syntax tree ---\")\n",
    "print(best_stree)\n",
    "print(best_eval)"
   ]
  },
  {
   "cell_type": "code",
   "execution_count": null,
   "metadata": {},
   "outputs": [],
   "source": [
    "import sympy\n",
    "sympy.init_printing()\n",
    "sympy.simplify(sympy.factor(best_stree.to_sympy()))"
   ]
  },
  {
   "cell_type": "code",
   "execution_count": null,
   "metadata": {},
   "outputs": [],
   "source": [
    "print(best_stree.simplify())\n",
    "print(best_stree.get_max_depth())\n",
    "print(best_stree.get_nnodes())\n",
    "#from backprop import lpbackprop\n",
    "#sat, stree_cost = lpbackprop.lpbackprop(S.knowledge, best_stree, None)\n",
    "#print(sat)\n",
    "\n",
    "K_derivs = S.knowledge.get_derivs()\n",
    "stree_derivs = backprop.SyntaxTree.diff_all(best_stree, K_derivs, include_zeroth=True)\n",
    "print(sympy.simplify(sympy.factor(stree_derivs[(0,0)].to_sympy())))\n",
    "\n",
    "print(gp.NumericalFUEvaluator(S_train, S.knowledge).evaluate(best_stree, eval_deriv=True))"
   ]
  },
  {
   "cell_type": "code",
   "execution_count": null,
   "metadata": {},
   "outputs": [],
   "source": [
    "S.get_plotter().plot(width=8, height=6, plot_knowldege=False, model=best_stree, zoomout=1)\n",
    "\"\"\"S.get_plotter().plot(width=8, height=6, plot_knowldege=False, model=best_stree.diff(0).simplify(), zoomout=3)\n",
    "S.knowledge.synthesize(best_stree, S_train.X).get_plotter().plot(width=8, height=6)\n",
    "\n",
    "K_evaluator = gp.FUEvaluator(S_train, S.knowledge)\n",
    "print(K_evaluator.evaluate(best_stree))\n",
    "\n",
    "print(best_stree.diff(0))\n",
    "print(best_stree.diff(0).simplify())\"\"\""
   ]
  },
  {
   "cell_type": "code",
   "execution_count": null,
   "metadata": {},
   "outputs": [],
   "source": [
    "for quality, qseries in symb_regressor.stats.qualities.items():\n",
    "    plt.plot(qseries, label=quality)\n",
    "    print(quality, qseries)\n",
    "plt.legend()\n",
    "plt.ylim((-0.01, 1.01))\n",
    "plt.xlabel('Generation')\n",
    "plt.ylabel('R2')\n",
    "plt.title('Qualities')\n",
    "plt.show()"
   ]
  },
  {
   "cell_type": "code",
   "execution_count": null,
   "metadata": {},
   "outputs": [],
   "source": [
    "for quality, qseries in symb_regressor.stats.fea_ratio.items():\n",
    "    plt.plot(qseries, label=quality)\n",
    "\n",
    "plt.legend()\n",
    "plt.ylim((-0.01, 1.01))\n",
    "plt.xlabel('Generation')\n",
    "plt.ylabel('Ratio')\n",
    "plt.title('Feasibility')\n",
    "plt.show()"
   ]
  },
  {
   "cell_type": "code",
   "execution_count": null,
   "metadata": {},
   "outputs": [],
   "source": [
    "import pandas as pd\n",
    "\n",
    "pd_data = []\n",
    "front_tracker = symb_regressor.fea_front_tracker.front_tracker_a\n",
    "\n",
    "for frontidx in range(front_tracker.nfronts):\n",
    "\n",
    "    front = front_tracker.get_front(frontidx)\n",
    "    symbset, symbdist = front_tracker.compute_symbdist(frontidx)\n",
    "    crowdist = front_tracker.compute_crowdist(frontidx)\n",
    "    \n",
    "    for idx, (stree, data, length) in enumerate(front):\n",
    "        pd_data.append(\n",
    "            [idx, stree, frontidx, data/length, data, length, symbset[id(stree)], symbdist[id(stree)], crowdist[id(stree)]]\n",
    "        )\n",
    "\n",
    "        \n",
    "\n",
    "front_tracker.plot(0)\n",
    "pd.DataFrame(pd_data, columns=['Score', 'Model', 'Front', 'fpn', 'R2', 'Length', 'Symbset', 'Symbdist', 'Crowdist']).head(n=60)\n",
    "#print(front_tracker.symbfreq.freq)\n",
    "#print(symb_regressor.fea_front_tracker.front_tracker_b.symbfreq.freq)\n"
   ]
  }
 ],
 "metadata": {
  "kernelspec": {
   "display_name": "Python 3",
   "language": "python",
   "name": "python3"
  },
  "language_info": {
   "codemirror_mode": {
    "name": "ipython",
    "version": 3
   },
   "file_extension": ".py",
   "mimetype": "text/x-python",
   "name": "python",
   "nbconvert_exporter": "python",
   "pygments_lexer": "ipython3",
   "version": "3.11.3"
  }
 },
 "nbformat": 4,
 "nbformat_minor": 2
}
